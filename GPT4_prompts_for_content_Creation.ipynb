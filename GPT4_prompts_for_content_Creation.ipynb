{
  "nbformat": 4,
  "nbformat_minor": 0,
  "metadata": {
    "colab": {
      "provenance": [],
      "authorship_tag": "ABX9TyO9NyAREfWc/8VYUpmwwDPr",
      "include_colab_link": true
    },
    "kernelspec": {
      "name": "python3",
      "display_name": "Python 3"
    },
    "language_info": {
      "name": "python"
    }
  },
  "cells": [
    {
      "cell_type": "markdown",
      "metadata": {
        "id": "view-in-github",
        "colab_type": "text"
      },
      "source": [
        "<a href=\"https://colab.research.google.com/github/naashonomics/openai/blob/main/GPT4_prompts_for_content_Creation.ipynb\" target=\"_parent\"><img src=\"https://colab.research.google.com/assets/colab-badge.svg\" alt=\"Open In Colab\"/></a>"
      ]
    },
    {
      "cell_type": "markdown",
      "source": [
        "**Prompt To Generate Image with ChatGPT4**\n",
        "\n",
        "INPUT = {focus}\n",
        "\n",
        "OUTPUT = {description}\\n![IMG]{https://image.pollinations.ai/prompt/{description}}\n",
        "\n",
        "{description} =\n",
        "{focusDetailed},%20{adjective1},%20{adjective2},%20{visualStyle1},%20{visualStyle2},%20{artisitReference}\n",
        "\n",
        "INPUT = a photo of popular chatgpt product applications\n",
        "\n",
        "OUTPUT = Create a collage of popular chatgpt applications, with golden frame ,frame as border for each product , with light centered on each one "
      ],
      "metadata": {
        "id": "bedjS31CB5RR"
      }
    }
  ]
}