{
  "nbformat": 4,
  "nbformat_minor": 0,
  "metadata": {
    "colab": {
      "provenance": [],
      "authorship_tag": "ABX9TyMMDHfiU8SNq97nMbgIFZi7",
      "include_colab_link": true
    },
    "kernelspec": {
      "name": "python3",
      "display_name": "Python 3"
    },
    "language_info": {
      "name": "python"
    }
  },
  "cells": [
    {
      "cell_type": "markdown",
      "metadata": {
        "id": "view-in-github",
        "colab_type": "text"
      },
      "source": [
        "<a href=\"https://colab.research.google.com/github/naashonomics/openai/blob/main/GPT4_prompts_for_content_Creation.ipynb\" target=\"_parent\"><img src=\"https://colab.research.google.com/assets/colab-badge.svg\" alt=\"Open In Colab\"/></a>"
      ]
    },
    {
      "cell_type": "markdown",
      "source": [
        "**Prompt To Generate Image with ChatGPT4**\n",
        "\n",
        "INPUT = {focus}\n",
        "\n",
        "OUTPUT = {description}\\n![IMG]{https://image.pollinations.ai/prompt/{description}}\n",
        "\n",
        "{description} =\n",
        "{focusDetailed},%20{adjective1},%20{adjective2},%20{visualStyle1},%20{visualStyle2},%20{artisitReference}\n",
        "\n",
        "INPUT = a photo of popular chatgpt product applications\n",
        "\n",
        "OUTPUT = Create a collage of popular chatgpt applications, with golden frame ,frame as border for each product , with light centered on each one "
      ],
      "metadata": {
        "id": "bedjS31CB5RR"
      }
    },
    {
      "cell_type": "markdown",
      "source": [
        "**Prompt for Youtube Video Generation**\n",
        "\n",
        "**Prompt You can Use**\n",
        "\n",
        "video script prompting  {Celebrity_Name} popular quotes \n",
        "\n",
        "**Example of Prompt Use**\n",
        "\n",
        "video script prompting  Elon musk popular quotes \n"
      ],
      "metadata": {
        "id": "Bu-7Ty_0Clbq"
      }
    },
    {
      "cell_type": "markdown",
      "source": [
        "**Prompt for YouTube Short Video Generation**\n",
        "\n",
        "make a 60 second script youtube short video on {Celebrity_Name} popular quotes \n",
        "\n",
        "**Example of Prompt Use**\n",
        "\n",
        "make a 60 second script youtube short video on Elon musk popular quotes "
      ],
      "metadata": {
        "id": "vVUMEaiRDVTk"
      }
    },
    {
      "cell_type": "markdown",
      "source": [],
      "metadata": {
        "id": "fw7m-_GuDpzV"
      }
    }
  ]
}