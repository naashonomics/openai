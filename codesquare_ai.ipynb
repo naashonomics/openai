{
  "nbformat": 4,
  "nbformat_minor": 0,
  "metadata": {
    "colab": {
      "provenance": [],
      "authorship_tag": "ABX9TyNKzmhv9Cl/UBs5g8qhVr3N",
      "include_colab_link": true
    },
    "kernelspec": {
      "name": "python3",
      "display_name": "Python 3"
    },
    "language_info": {
      "name": "python"
    }
  },
  "cells": [
    {
      "cell_type": "markdown",
      "metadata": {
        "id": "view-in-github",
        "colab_type": "text"
      },
      "source": [
        "<a href=\"https://colab.research.google.com/github/naashonomics/openai/blob/main/codesquare_ai.ipynb\" target=\"_parent\"><img src=\"https://colab.research.google.com/assets/colab-badge.svg\" alt=\"Open In Colab\"/></a>"
      ]
    },
    {
      "cell_type": "code",
      "execution_count": 2,
      "metadata": {
        "id": "SWSeUbiSFvGD"
      },
      "outputs": [],
      "source": [
        "import math\n",
        "\n",
        "def get_distance(lat1, long1, lat2, long2):\n",
        "    '''\n",
        "    Function that takes lat1, long2, lat3, lat4 as an input and returns the distance in meters between two points.\n",
        "    '''\n",
        "    R = 6371000  # Earth radius in meters\n",
        "    phi1 = math.radians(lat1)\n",
        "    phi2 = math.radians(lat2)\n",
        "    delta_phi = math.radians(lat2 - lat1)\n",
        "    delta_lambda = math.radians(long2 - long1)\n",
        "\n",
        "    a = math.sin(delta_phi / 2) ** 2 + math.cos(phi1) * math.cos(phi2) * math.sin(delta_lambda / 2) ** 2\n",
        "    c = 2 * math.atan2(math.sqrt(a), math.sqrt(1 - a))\n",
        "\n",
        "    distance = R * c\n",
        "    \n",
        "    return distance\n"
      ]
    },
    {
      "cell_type": "markdown",
      "source": [],
      "metadata": {
        "id": "-xLh6XhPHCdg"
      }
    },
    {
      "cell_type": "code",
      "source": [],
      "metadata": {
        "id": "WPMcXeLfHDdw"
      },
      "execution_count": null,
      "outputs": []
    },
    {
      "cell_type": "markdown",
      "source": [],
      "metadata": {
        "id": "V8f1PzLGHEPi"
      }
    },
    {
      "cell_type": "code",
      "source": [
        "from decouple import config\n",
        "\n",
        "aws_key = config('aws_key')\n",
        "secret_key = config('aws_secret_key')\n",
        "\n",
        "def foo(df, bucket_path):\n",
        "import boto3\n",
        "\n",
        "s3 = boto3.client('s3', aws_access_key_id=aws_key, aws_secret_access_key=secret_key)\n",
        "\n",
        "s3.upload_fileobj(df, 'bucket_name', bucket_path)\n",
        "\n",
        "\"\"\"\n",
        "This code appears to upload a file to an AWS S3 bucket. \n",
        "\n",
        "The `decouple` package is imported to retrieve the `aws_key` and `aws_secret_key` from a configuration file. These keys are then used to create an S3 client using the `boto3` package.\n",
        "\n",
        "The `foo` function seems to upload a file to the specified S3 bucket location `bucket_path`. It takes in a pandas dataframe `df` as input, which is uploaded to the specified location using the `upload_fileobj` method of the `s3` client.\n",
        "\n",
        "Note that the `bucket_name` should be appropriately updated to the name of the actual S3 bucket to which the file needs to be uploaded\n",
        "\n",
        "\"\"\"\n"
      ],
      "metadata": {
        "id": "rheiUFMoHDpK"
      },
      "execution_count": null,
      "outputs": []
    }
  ]
}