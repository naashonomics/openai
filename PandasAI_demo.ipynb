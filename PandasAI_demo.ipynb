{
  "nbformat": 4,
  "nbformat_minor": 0,
  "metadata": {
    "colab": {
      "provenance": [],
      "include_colab_link": true
    },
    "kernelspec": {
      "name": "python3",
      "display_name": "Python 3"
    },
    "language_info": {
      "name": "python"
    }
  },
  "cells": [
    {
      "cell_type": "markdown",
      "metadata": {
        "id": "view-in-github",
        "colab_type": "text"
      },
      "source": [
        "<a href=\"https://colab.research.google.com/github/naashonomics/openai/blob/main/PandasAI_demo.ipynb\" target=\"_parent\"><img src=\"https://colab.research.google.com/assets/colab-badge.svg\" alt=\"Open In Colab\"/></a>"
      ]
    },
    {
      "cell_type": "markdown",
      "source": [
        "#PandasAI\n",
        "\n",
        "Pandas AI is a Python library that adds generative artificial intelligence capabilities to Pandas, the popular data analysis and manipulation tool.\n",
        "\n",
        "Here is a very simple demo about how it work!"
      ],
      "metadata": {
        "id": "8OnF6qsbDG1t"
      }
    },
    {
      "cell_type": "markdown",
      "source": [
        "First of all we install the dependencies:"
      ],
      "metadata": {
        "id": "-VQE9nGwDaiG"
      }
    },
    {
      "cell_type": "code",
      "execution_count": 30,
      "metadata": {
        "id": "qtqSnCgwDDCg",
        "colab": {
          "base_uri": "https://localhost:8080/"
        },
        "outputId": "2b06356e-cd81-4974-9184-1203e93c3747"
      },
      "outputs": [
        {
          "output_type": "stream",
          "name": "stdout",
          "text": [
            "Requirement already satisfied: pandas in /usr/local/lib/python3.10/dist-packages (1.5.3)\n",
            "Collecting pandas\n",
            "  Using cached pandas-2.0.3-cp310-cp310-manylinux_2_17_x86_64.manylinux2014_x86_64.whl (12.3 MB)\n",
            "Requirement already satisfied: pandasai in /usr/local/lib/python3.10/dist-packages (1.0.1)\n",
            "Requirement already satisfied: python-dateutil>=2.8.2 in /usr/local/lib/python3.10/dist-packages (from pandas) (2.8.2)\n",
            "Requirement already satisfied: pytz>=2020.1 in /usr/local/lib/python3.10/dist-packages (from pandas) (2023.3)\n",
            "Collecting tzdata>=2022.1 (from pandas)\n",
            "  Using cached tzdata-2023.3-py2.py3-none-any.whl (341 kB)\n",
            "Requirement already satisfied: numpy>=1.21.0 in /usr/local/lib/python3.10/dist-packages (from pandas) (1.23.5)\n",
            "Requirement already satisfied: astor<0.9.0,>=0.8.1 in /usr/local/lib/python3.10/dist-packages (from pandasai) (0.8.1)\n",
            "Requirement already satisfied: ipython<9.0.0,>=8.13.1 in /usr/local/lib/python3.10/dist-packages (from pandasai) (8.14.0)\n",
            "Requirement already satisfied: matplotlib<4.0.0,>=3.7.1 in /usr/local/lib/python3.10/dist-packages (from pandasai) (3.7.1)\n",
            "Requirement already satisfied: openai<0.28.0,>=0.27.5 in /usr/local/lib/python3.10/dist-packages (from pandasai) (0.27.8)\n",
            "Requirement already satisfied: pydantic<2,>=1 in /usr/local/lib/python3.10/dist-packages (from pandasai) (1.10.12)\n",
            "Requirement already satisfied: python-dotenv<2.0.0,>=1.0.0 in /usr/local/lib/python3.10/dist-packages (from pandasai) (1.0.0)\n",
            "Requirement already satisfied: scipy<2.0.0,>=1.9.0 in /usr/local/lib/python3.10/dist-packages (from pandasai) (1.10.1)\n",
            "Requirement already satisfied: backcall in /usr/local/lib/python3.10/dist-packages (from ipython<9.0.0,>=8.13.1->pandasai) (0.2.0)\n",
            "Requirement already satisfied: decorator in /usr/local/lib/python3.10/dist-packages (from ipython<9.0.0,>=8.13.1->pandasai) (4.4.2)\n",
            "Requirement already satisfied: jedi>=0.16 in /usr/local/lib/python3.10/dist-packages (from ipython<9.0.0,>=8.13.1->pandasai) (0.19.0)\n",
            "Requirement already satisfied: matplotlib-inline in /usr/local/lib/python3.10/dist-packages (from ipython<9.0.0,>=8.13.1->pandasai) (0.1.6)\n",
            "Requirement already satisfied: pickleshare in /usr/local/lib/python3.10/dist-packages (from ipython<9.0.0,>=8.13.1->pandasai) (0.7.5)\n",
            "Requirement already satisfied: prompt-toolkit!=3.0.37,<3.1.0,>=3.0.30 in /usr/local/lib/python3.10/dist-packages (from ipython<9.0.0,>=8.13.1->pandasai) (3.0.39)\n",
            "Requirement already satisfied: pygments>=2.4.0 in /usr/local/lib/python3.10/dist-packages (from ipython<9.0.0,>=8.13.1->pandasai) (2.16.1)\n",
            "Requirement already satisfied: stack-data in /usr/local/lib/python3.10/dist-packages (from ipython<9.0.0,>=8.13.1->pandasai) (0.6.2)\n",
            "Requirement already satisfied: traitlets>=5 in /usr/local/lib/python3.10/dist-packages (from ipython<9.0.0,>=8.13.1->pandasai) (5.7.1)\n",
            "Requirement already satisfied: pexpect>4.3 in /usr/local/lib/python3.10/dist-packages (from ipython<9.0.0,>=8.13.1->pandasai) (4.8.0)\n",
            "Requirement already satisfied: contourpy>=1.0.1 in /usr/local/lib/python3.10/dist-packages (from matplotlib<4.0.0,>=3.7.1->pandasai) (1.1.0)\n",
            "Requirement already satisfied: cycler>=0.10 in /usr/local/lib/python3.10/dist-packages (from matplotlib<4.0.0,>=3.7.1->pandasai) (0.11.0)\n",
            "Requirement already satisfied: fonttools>=4.22.0 in /usr/local/lib/python3.10/dist-packages (from matplotlib<4.0.0,>=3.7.1->pandasai) (4.42.0)\n",
            "Requirement already satisfied: kiwisolver>=1.0.1 in /usr/local/lib/python3.10/dist-packages (from matplotlib<4.0.0,>=3.7.1->pandasai) (1.4.4)\n",
            "Requirement already satisfied: packaging>=20.0 in /usr/local/lib/python3.10/dist-packages (from matplotlib<4.0.0,>=3.7.1->pandasai) (23.1)\n",
            "Requirement already satisfied: pillow>=6.2.0 in /usr/local/lib/python3.10/dist-packages (from matplotlib<4.0.0,>=3.7.1->pandasai) (9.4.0)\n",
            "Requirement already satisfied: pyparsing>=2.3.1 in /usr/local/lib/python3.10/dist-packages (from matplotlib<4.0.0,>=3.7.1->pandasai) (3.1.1)\n",
            "Requirement already satisfied: requests>=2.20 in /usr/local/lib/python3.10/dist-packages (from openai<0.28.0,>=0.27.5->pandasai) (2.31.0)\n",
            "Requirement already satisfied: tqdm in /usr/local/lib/python3.10/dist-packages (from openai<0.28.0,>=0.27.5->pandasai) (4.66.1)\n",
            "Requirement already satisfied: aiohttp in /usr/local/lib/python3.10/dist-packages (from openai<0.28.0,>=0.27.5->pandasai) (3.8.5)\n",
            "Requirement already satisfied: typing-extensions>=4.2.0 in /usr/local/lib/python3.10/dist-packages (from pydantic<2,>=1->pandasai) (4.7.1)\n",
            "Requirement already satisfied: six>=1.5 in /usr/local/lib/python3.10/dist-packages (from python-dateutil>=2.8.2->pandas) (1.16.0)\n",
            "Requirement already satisfied: parso<0.9.0,>=0.8.3 in /usr/local/lib/python3.10/dist-packages (from jedi>=0.16->ipython<9.0.0,>=8.13.1->pandasai) (0.8.3)\n",
            "Requirement already satisfied: ptyprocess>=0.5 in /usr/local/lib/python3.10/dist-packages (from pexpect>4.3->ipython<9.0.0,>=8.13.1->pandasai) (0.7.0)\n",
            "Requirement already satisfied: wcwidth in /usr/local/lib/python3.10/dist-packages (from prompt-toolkit!=3.0.37,<3.1.0,>=3.0.30->ipython<9.0.0,>=8.13.1->pandasai) (0.2.6)\n",
            "Requirement already satisfied: charset-normalizer<4,>=2 in /usr/local/lib/python3.10/dist-packages (from requests>=2.20->openai<0.28.0,>=0.27.5->pandasai) (3.2.0)\n",
            "Requirement already satisfied: idna<4,>=2.5 in /usr/local/lib/python3.10/dist-packages (from requests>=2.20->openai<0.28.0,>=0.27.5->pandasai) (3.4)\n",
            "Requirement already satisfied: urllib3<3,>=1.21.1 in /usr/local/lib/python3.10/dist-packages (from requests>=2.20->openai<0.28.0,>=0.27.5->pandasai) (2.0.4)\n",
            "Requirement already satisfied: certifi>=2017.4.17 in /usr/local/lib/python3.10/dist-packages (from requests>=2.20->openai<0.28.0,>=0.27.5->pandasai) (2023.7.22)\n",
            "Requirement already satisfied: attrs>=17.3.0 in /usr/local/lib/python3.10/dist-packages (from aiohttp->openai<0.28.0,>=0.27.5->pandasai) (23.1.0)\n",
            "Requirement already satisfied: multidict<7.0,>=4.5 in /usr/local/lib/python3.10/dist-packages (from aiohttp->openai<0.28.0,>=0.27.5->pandasai) (6.0.4)\n",
            "Requirement already satisfied: async-timeout<5.0,>=4.0.0a3 in /usr/local/lib/python3.10/dist-packages (from aiohttp->openai<0.28.0,>=0.27.5->pandasai) (4.0.3)\n",
            "Requirement already satisfied: yarl<2.0,>=1.0 in /usr/local/lib/python3.10/dist-packages (from aiohttp->openai<0.28.0,>=0.27.5->pandasai) (1.9.2)\n",
            "Requirement already satisfied: frozenlist>=1.1.1 in /usr/local/lib/python3.10/dist-packages (from aiohttp->openai<0.28.0,>=0.27.5->pandasai) (1.4.0)\n",
            "Requirement already satisfied: aiosignal>=1.1.2 in /usr/local/lib/python3.10/dist-packages (from aiohttp->openai<0.28.0,>=0.27.5->pandasai) (1.3.1)\n",
            "Requirement already satisfied: executing>=1.2.0 in /usr/local/lib/python3.10/dist-packages (from stack-data->ipython<9.0.0,>=8.13.1->pandasai) (1.2.0)\n",
            "Requirement already satisfied: asttokens>=2.1.0 in /usr/local/lib/python3.10/dist-packages (from stack-data->ipython<9.0.0,>=8.13.1->pandasai) (2.2.1)\n",
            "Requirement already satisfied: pure-eval in /usr/local/lib/python3.10/dist-packages (from stack-data->ipython<9.0.0,>=8.13.1->pandasai) (0.2.2)\n"
          ]
        }
      ],
      "source": [
        "!pip install --upgrade pandas pandasai"
      ]
    },
    {
      "cell_type": "markdown",
      "source": [
        "Now we import the dependencies:"
      ],
      "metadata": {
        "id": "DrrlU4QqDmxl"
      }
    },
    {
      "cell_type": "code",
      "source": [
        "import pandas as pd\n",
        "import numpy as np\n",
        "from pandasai import PandasAI\n",
        "from pandasai.llm.openai import OpenAI"
      ],
      "metadata": {
        "id": "ohPMkz4zDqxz"
      },
      "execution_count": 31,
      "outputs": []
    },
    {
      "cell_type": "code",
      "source": [
        "class MyPandasAI(PandasAI):\n",
        "    def chat(self, df, prompt):\n",
        "        # Get the answer from the OpenAI API\n",
        "        answer = self.llm.chat(prompt)\n",
        "\n",
        "        # Return the answer\n",
        "        return answer"
      ],
      "metadata": {
        "id": "yU5bn7Y2eHva"
      },
      "execution_count": 24,
      "outputs": []
    },
    {
      "cell_type": "markdown",
      "source": [
        "We instanciate the llm (in this case OpenAI). Remember to change the API key with you OpenAI api key."
      ],
      "metadata": {
        "id": "WRKWFWSGD1tB"
      }
    },
    {
      "cell_type": "code",
      "source": [
        "OPENAI_API_KEY = \"YOUR OPEN AI KEY\"\n",
        "llm = OpenAI(api_token=OPENAI_API_KEY)\n",
        "pandas_ai = MyPandasAI(llm)"
      ],
      "metadata": {
        "id": "MhByl8oxEJFH"
      },
      "execution_count": 32,
      "outputs": []
    },
    {
      "cell_type": "markdown",
      "source": [
        "We create a dataframe using pandas:"
      ],
      "metadata": {
        "id": "VtWBXTG0T_3Y"
      }
    },
    {
      "cell_type": "code",
      "source": [
        "data_dict = {\n",
        "    \"country\": [\n",
        "        \"Delhi\",\n",
        "        \"Mumbai\",\n",
        "        \"Kolkata\",\n",
        "        \"Chennai\",\n",
        "        \"Jaipur\",\n",
        "        \"Lucknow\",\n",
        "        \"Pune\",\n",
        "        \"Bengaluru\",\n",
        "        \"Amritsar\",\n",
        "        \"Agra\",\n",
        "        \"Kola\",\n",
        "    ],\n",
        "    \"annual tax collected\": [\n",
        "        19294482072,\n",
        "        28916155672,\n",
        "        24112550372,\n",
        "        34358173362,\n",
        "        17454337886,\n",
        "        11812051350,\n",
        "        16074023894,\n",
        "        14909678554,\n",
        "        43807565410,\n",
        "        146318441864,\n",
        "        np.nan,\n",
        "    ],\n",
        "    \"happiness_index\": [9.94, 7.16, 6.35, 8.07, 6.98, 6.1, 4.23, 8.22, 6.87, 3.36, np.nan],\n",
        "}\n",
        "\n",
        "df = pd.DataFrame(data_dict)\n",
        "df.head(10)"
      ],
      "metadata": {
        "id": "IcfPQg7AUfC6",
        "colab": {
          "base_uri": "https://localhost:8080/",
          "height": 363
        },
        "outputId": "8693797d-9214-4ac6-bea0-0fea23b0f13c"
      },
      "execution_count": 29,
      "outputs": [
        {
          "output_type": "execute_result",
          "data": {
            "text/plain": [
              "     country  annual tax collected  happiness_index\n",
              "0      Delhi          1.929448e+10             9.94\n",
              "1     Mumbai          2.891616e+10             7.16\n",
              "2    Kolkata          2.411255e+10             6.35\n",
              "3    Chennai          3.435817e+10             8.07\n",
              "4     Jaipur          1.745434e+10             6.98\n",
              "5    Lucknow          1.181205e+10             6.10\n",
              "6       Pune          1.607402e+10             4.23\n",
              "7  Bengaluru          1.490968e+10             8.22\n",
              "8   Amritsar          4.380757e+10             6.87\n",
              "9       Agra          1.463184e+11             3.36"
            ],
            "text/html": [
              "\n",
              "\n",
              "  <div id=\"df-ef482606-b6ac-4110-ad45-3ba6016aa58a\">\n",
              "    <div class=\"colab-df-container\">\n",
              "      <div>\n",
              "<style scoped>\n",
              "    .dataframe tbody tr th:only-of-type {\n",
              "        vertical-align: middle;\n",
              "    }\n",
              "\n",
              "    .dataframe tbody tr th {\n",
              "        vertical-align: top;\n",
              "    }\n",
              "\n",
              "    .dataframe thead th {\n",
              "        text-align: right;\n",
              "    }\n",
              "</style>\n",
              "<table border=\"1\" class=\"dataframe\">\n",
              "  <thead>\n",
              "    <tr style=\"text-align: right;\">\n",
              "      <th></th>\n",
              "      <th>country</th>\n",
              "      <th>annual tax collected</th>\n",
              "      <th>happiness_index</th>\n",
              "    </tr>\n",
              "  </thead>\n",
              "  <tbody>\n",
              "    <tr>\n",
              "      <th>0</th>\n",
              "      <td>Delhi</td>\n",
              "      <td>1.929448e+10</td>\n",
              "      <td>9.94</td>\n",
              "    </tr>\n",
              "    <tr>\n",
              "      <th>1</th>\n",
              "      <td>Mumbai</td>\n",
              "      <td>2.891616e+10</td>\n",
              "      <td>7.16</td>\n",
              "    </tr>\n",
              "    <tr>\n",
              "      <th>2</th>\n",
              "      <td>Kolkata</td>\n",
              "      <td>2.411255e+10</td>\n",
              "      <td>6.35</td>\n",
              "    </tr>\n",
              "    <tr>\n",
              "      <th>3</th>\n",
              "      <td>Chennai</td>\n",
              "      <td>3.435817e+10</td>\n",
              "      <td>8.07</td>\n",
              "    </tr>\n",
              "    <tr>\n",
              "      <th>4</th>\n",
              "      <td>Jaipur</td>\n",
              "      <td>1.745434e+10</td>\n",
              "      <td>6.98</td>\n",
              "    </tr>\n",
              "    <tr>\n",
              "      <th>5</th>\n",
              "      <td>Lucknow</td>\n",
              "      <td>1.181205e+10</td>\n",
              "      <td>6.10</td>\n",
              "    </tr>\n",
              "    <tr>\n",
              "      <th>6</th>\n",
              "      <td>Pune</td>\n",
              "      <td>1.607402e+10</td>\n",
              "      <td>4.23</td>\n",
              "    </tr>\n",
              "    <tr>\n",
              "      <th>7</th>\n",
              "      <td>Bengaluru</td>\n",
              "      <td>1.490968e+10</td>\n",
              "      <td>8.22</td>\n",
              "    </tr>\n",
              "    <tr>\n",
              "      <th>8</th>\n",
              "      <td>Amritsar</td>\n",
              "      <td>4.380757e+10</td>\n",
              "      <td>6.87</td>\n",
              "    </tr>\n",
              "    <tr>\n",
              "      <th>9</th>\n",
              "      <td>Agra</td>\n",
              "      <td>1.463184e+11</td>\n",
              "      <td>3.36</td>\n",
              "    </tr>\n",
              "  </tbody>\n",
              "</table>\n",
              "</div>\n",
              "      <button class=\"colab-df-convert\" onclick=\"convertToInteractive('df-ef482606-b6ac-4110-ad45-3ba6016aa58a')\"\n",
              "              title=\"Convert this dataframe to an interactive table.\"\n",
              "              style=\"display:none;\">\n",
              "\n",
              "  <svg xmlns=\"http://www.w3.org/2000/svg\" height=\"24px\"viewBox=\"0 0 24 24\"\n",
              "       width=\"24px\">\n",
              "    <path d=\"M0 0h24v24H0V0z\" fill=\"none\"/>\n",
              "    <path d=\"M18.56 5.44l.94 2.06.94-2.06 2.06-.94-2.06-.94-.94-2.06-.94 2.06-2.06.94zm-11 1L8.5 8.5l.94-2.06 2.06-.94-2.06-.94L8.5 2.5l-.94 2.06-2.06.94zm10 10l.94 2.06.94-2.06 2.06-.94-2.06-.94-.94-2.06-.94 2.06-2.06.94z\"/><path d=\"M17.41 7.96l-1.37-1.37c-.4-.4-.92-.59-1.43-.59-.52 0-1.04.2-1.43.59L10.3 9.45l-7.72 7.72c-.78.78-.78 2.05 0 2.83L4 21.41c.39.39.9.59 1.41.59.51 0 1.02-.2 1.41-.59l7.78-7.78 2.81-2.81c.8-.78.8-2.07 0-2.86zM5.41 20L4 18.59l7.72-7.72 1.47 1.35L5.41 20z\"/>\n",
              "  </svg>\n",
              "      </button>\n",
              "\n",
              "\n",
              "\n",
              "    <div id=\"df-4d95f048-f1c0-4748-ba00-1014bf3a4669\">\n",
              "      <button class=\"colab-df-quickchart\" onclick=\"quickchart('df-4d95f048-f1c0-4748-ba00-1014bf3a4669')\"\n",
              "              title=\"Suggest charts.\"\n",
              "              style=\"display:none;\">\n",
              "\n",
              "<svg xmlns=\"http://www.w3.org/2000/svg\" height=\"24px\"viewBox=\"0 0 24 24\"\n",
              "     width=\"24px\">\n",
              "    <g>\n",
              "        <path d=\"M19 3H5c-1.1 0-2 .9-2 2v14c0 1.1.9 2 2 2h14c1.1 0 2-.9 2-2V5c0-1.1-.9-2-2-2zM9 17H7v-7h2v7zm4 0h-2V7h2v10zm4 0h-2v-4h2v4z\"/>\n",
              "    </g>\n",
              "</svg>\n",
              "      </button>\n",
              "    </div>\n",
              "\n",
              "<style>\n",
              "  .colab-df-quickchart {\n",
              "    background-color: #E8F0FE;\n",
              "    border: none;\n",
              "    border-radius: 50%;\n",
              "    cursor: pointer;\n",
              "    display: none;\n",
              "    fill: #1967D2;\n",
              "    height: 32px;\n",
              "    padding: 0 0 0 0;\n",
              "    width: 32px;\n",
              "  }\n",
              "\n",
              "  .colab-df-quickchart:hover {\n",
              "    background-color: #E2EBFA;\n",
              "    box-shadow: 0px 1px 2px rgba(60, 64, 67, 0.3), 0px 1px 3px 1px rgba(60, 64, 67, 0.15);\n",
              "    fill: #174EA6;\n",
              "  }\n",
              "\n",
              "  [theme=dark] .colab-df-quickchart {\n",
              "    background-color: #3B4455;\n",
              "    fill: #D2E3FC;\n",
              "  }\n",
              "\n",
              "  [theme=dark] .colab-df-quickchart:hover {\n",
              "    background-color: #434B5C;\n",
              "    box-shadow: 0px 1px 3px 1px rgba(0, 0, 0, 0.15);\n",
              "    filter: drop-shadow(0px 1px 2px rgba(0, 0, 0, 0.3));\n",
              "    fill: #FFFFFF;\n",
              "  }\n",
              "</style>\n",
              "\n",
              "    <script>\n",
              "      async function quickchart(key) {\n",
              "        const containerElement = document.querySelector('#' + key);\n",
              "        const charts = await google.colab.kernel.invokeFunction(\n",
              "            'suggestCharts', [key], {});\n",
              "      }\n",
              "    </script>\n",
              "\n",
              "      <script>\n",
              "\n",
              "function displayQuickchartButton(domScope) {\n",
              "  let quickchartButtonEl =\n",
              "    domScope.querySelector('#df-4d95f048-f1c0-4748-ba00-1014bf3a4669 button.colab-df-quickchart');\n",
              "  quickchartButtonEl.style.display =\n",
              "    google.colab.kernel.accessAllowed ? 'block' : 'none';\n",
              "}\n",
              "\n",
              "        displayQuickchartButton(document);\n",
              "      </script>\n",
              "      <style>\n",
              "    .colab-df-container {\n",
              "      display:flex;\n",
              "      flex-wrap:wrap;\n",
              "      gap: 12px;\n",
              "    }\n",
              "\n",
              "    .colab-df-convert {\n",
              "      background-color: #E8F0FE;\n",
              "      border: none;\n",
              "      border-radius: 50%;\n",
              "      cursor: pointer;\n",
              "      display: none;\n",
              "      fill: #1967D2;\n",
              "      height: 32px;\n",
              "      padding: 0 0 0 0;\n",
              "      width: 32px;\n",
              "    }\n",
              "\n",
              "    .colab-df-convert:hover {\n",
              "      background-color: #E2EBFA;\n",
              "      box-shadow: 0px 1px 2px rgba(60, 64, 67, 0.3), 0px 1px 3px 1px rgba(60, 64, 67, 0.15);\n",
              "      fill: #174EA6;\n",
              "    }\n",
              "\n",
              "    [theme=dark] .colab-df-convert {\n",
              "      background-color: #3B4455;\n",
              "      fill: #D2E3FC;\n",
              "    }\n",
              "\n",
              "    [theme=dark] .colab-df-convert:hover {\n",
              "      background-color: #434B5C;\n",
              "      box-shadow: 0px 1px 3px 1px rgba(0, 0, 0, 0.15);\n",
              "      filter: drop-shadow(0px 1px 2px rgba(0, 0, 0, 0.3));\n",
              "      fill: #FFFFFF;\n",
              "    }\n",
              "  </style>\n",
              "\n",
              "      <script>\n",
              "        const buttonEl =\n",
              "          document.querySelector('#df-ef482606-b6ac-4110-ad45-3ba6016aa58a button.colab-df-convert');\n",
              "        buttonEl.style.display =\n",
              "          google.colab.kernel.accessAllowed ? 'block' : 'none';\n",
              "\n",
              "        async function convertToInteractive(key) {\n",
              "          const element = document.querySelector('#df-ef482606-b6ac-4110-ad45-3ba6016aa58a');\n",
              "          const dataTable =\n",
              "            await google.colab.kernel.invokeFunction('convertToInteractive',\n",
              "                                                     [key], {});\n",
              "          if (!dataTable) return;\n",
              "\n",
              "          const docLinkHtml = 'Like what you see? Visit the ' +\n",
              "            '<a target=\"_blank\" href=https://colab.research.google.com/notebooks/data_table.ipynb>data table notebook</a>'\n",
              "            + ' to learn more about interactive tables.';\n",
              "          element.innerHTML = '';\n",
              "          dataTable['output_type'] = 'display_data';\n",
              "          await google.colab.output.renderOutput(dataTable, element);\n",
              "          const docLink = document.createElement('div');\n",
              "          docLink.innerHTML = docLinkHtml;\n",
              "          element.appendChild(docLink);\n",
              "        }\n",
              "      </script>\n",
              "    </div>\n",
              "  </div>\n"
            ]
          },
          "metadata": {},
          "execution_count": 29
        }
      ]
    },
    {
      "cell_type": "markdown",
      "source": [
        "Initialize an instance of pandasai"
      ],
      "metadata": {
        "id": "8p-_Ra2MUp5o"
      }
    },
    {
      "cell_type": "markdown",
      "source": [
        "Trying pandas features using pandasai\n",
        "Prompt 1: Finding index of a value"
      ],
      "metadata": {
        "id": "2FoJt6VvU2qY"
      }
    },
    {
      "cell_type": "code",
      "source": [
        "# finding index of a row using value of a column\n",
        "response = pandas_ai(df, \"What is the index of Pune?\")\n",
        "print(response)"
      ],
      "metadata": {
        "id": "WOopHXrrU5yJ"
      },
      "execution_count": null,
      "outputs": []
    },
    {
      "cell_type": "markdown",
      "source": [
        "Prompt 2: Using Head() function of DataFrame"
      ],
      "metadata": {
        "id": "kKfMsIkYU9Cw"
      }
    },
    {
      "cell_type": "code",
      "source": [
        "response = pandas_ai(df, \"Show the first 5 rows of data in tabular form\")\n",
        "print(response)"
      ],
      "metadata": {
        "id": "bvLGinkOVBeZ",
        "colab": {
          "base_uri": "https://localhost:8080/"
        },
        "outputId": "f9ea11a1-0eb9-4088-8296-fe2f7bbb70e7"
      },
      "execution_count": 34,
      "outputs": [
        {
          "output_type": "stream",
          "name": "stdout",
          "text": [
            "   country  annual tax collected  happiness_index\n",
            "0    Delhi          1.929448e+10             9.94\n",
            "1   Mumbai          2.891616e+10             7.16\n",
            "2  Kolkata          2.411255e+10             6.35\n",
            "3  Chennai          3.435817e+10             8.07\n",
            "4   Jaipur          1.745434e+10             6.98\n"
          ]
        }
      ]
    },
    {
      "cell_type": "markdown",
      "source": [
        "Using Tail() function of DataFrame"
      ],
      "metadata": {
        "id": "_l3lyJYmVDso"
      }
    },
    {
      "cell_type": "code",
      "source": [
        "response = pandas_ai(df, \"Show the last 5 rows of data in tabular form\")\n",
        "print(response)"
      ],
      "metadata": {
        "id": "V1_5vDQpVHDp",
        "colab": {
          "base_uri": "https://localhost:8080/"
        },
        "outputId": "bb0b312f-27ea-42a0-b57e-447786049e44"
      },
      "execution_count": 35,
      "outputs": [
        {
          "output_type": "stream",
          "name": "stdout",
          "text": [
            "      country  annual tax collected  happiness_index\n",
            "6        Pune          1.607402e+10             4.23\n",
            "7   Bengaluru          1.490968e+10             8.22\n",
            "8    Amritsar          4.380757e+10             6.87\n",
            "9        Agra          1.463184e+11             3.36\n",
            "10       Kola                   NaN              NaN\n"
          ]
        }
      ]
    },
    {
      "cell_type": "markdown",
      "source": [
        "Prompt 4: Using describe() function of DataFrame"
      ],
      "metadata": {
        "id": "UQ2CvtUfVKQS"
      }
    },
    {
      "cell_type": "code",
      "source": [
        "response = pandas_ai(df, \"Show the description of data in tabular form\")\n",
        "print(response)"
      ],
      "metadata": {
        "id": "ZrU_AU7dVMsA",
        "colab": {
          "base_uri": "https://localhost:8080/"
        },
        "outputId": "b12d7ac2-dfd6-4980-f022-31a8283b4ed1"
      },
      "execution_count": 36,
      "outputs": [
        {
          "output_type": "stream",
          "name": "stdout",
          "text": [
            "       annual tax collected  happiness_index\n",
            "count          1.000000e+01        10.000000\n",
            "mean           3.570575e+10         6.728000\n",
            "std            4.010314e+10         1.907149\n",
            "min            1.181205e+10         3.360000\n",
            "25%            1.641910e+10         6.162500\n",
            "50%            2.170352e+10         6.925000\n",
            "75%            3.299767e+10         7.842500\n",
            "max            1.463184e+11         9.940000\n"
          ]
        }
      ]
    },
    {
      "cell_type": "markdown",
      "source": [
        "Prompt 5: Using the info() function of DataFrame"
      ],
      "metadata": {
        "id": "XAdP7fzNVP_I"
      }
    },
    {
      "cell_type": "markdown",
      "source": [
        "Prompt 6: Using shape attribute of dataframe"
      ],
      "metadata": {
        "id": "n_e6oV8IVVIg"
      }
    },
    {
      "cell_type": "markdown",
      "source": [
        "Prompt 7: Finding any duplicate rows"
      ],
      "metadata": {
        "id": "zzat_TbvVZbQ"
      }
    },
    {
      "cell_type": "code",
      "source": [
        "response = pandas_ai(df, \"Are there any duplicate rows?\")\n",
        "print(response)"
      ],
      "metadata": {
        "id": "6EiVn8RLVZ_A",
        "colab": {
          "base_uri": "https://localhost:8080/"
        },
        "outputId": "1ea6a1c1-b405-4578-bd68-ecf94efa3179"
      },
      "execution_count": 38,
      "outputs": [
        {
          "output_type": "stream",
          "name": "stdout",
          "text": [
            "No duplicate rows found.\n"
          ]
        }
      ]
    },
    {
      "cell_type": "markdown",
      "source": [
        "Prompt 8: Finding missing values"
      ],
      "metadata": {
        "id": "s68XfGrLVczy"
      }
    },
    {
      "cell_type": "code",
      "source": [
        "\n",
        "response = pandas_ai(df, \"Are there any missing values?\")\n",
        "print(response)"
      ],
      "metadata": {
        "id": "NfO50silVeUo",
        "colab": {
          "base_uri": "https://localhost:8080/"
        },
        "outputId": "1e691d1c-6586-4aa9-de89-ba9352fae828"
      },
      "execution_count": 39,
      "outputs": [
        {
          "output_type": "stream",
          "name": "stdout",
          "text": [
            "Missing values: [2]\n"
          ]
        }
      ]
    },
    {
      "cell_type": "markdown",
      "source": [
        "Prompt 9: Drop rows with missing values"
      ],
      "metadata": {
        "id": "yulzxsxTViHc"
      }
    },
    {
      "cell_type": "markdown",
      "source": [
        "Prompt 10: Print all column names"
      ],
      "metadata": {
        "id": "0_QoYYb8Vllh"
      }
    },
    {
      "cell_type": "code",
      "source": [
        "\n",
        "response = pandas_ai(df, \"List all the column names\")\n",
        "print(response)"
      ],
      "metadata": {
        "id": "L7aLgnQOVmRR",
        "colab": {
          "base_uri": "https://localhost:8080/"
        },
        "outputId": "6c027b36-a597-4988-e4cf-b4fb81cf898b"
      },
      "execution_count": 41,
      "outputs": [
        {
          "output_type": "stream",
          "name": "stdout",
          "text": [
            "country, annual tax collected, happiness_index\n"
          ]
        }
      ]
    },
    {
      "cell_type": "markdown",
      "source": [
        "Prompt 11: Rename a column"
      ],
      "metadata": {
        "id": "D7lvkVJhVoiq"
      }
    },
    {
      "cell_type": "code",
      "source": [
        "response = pandas_ai(df, \"Rename column 'country' as 'Country' keep inplace=True and list all column names\")\n",
        "print(response)"
      ],
      "metadata": {
        "id": "JPCuXp2eVqLi",
        "colab": {
          "base_uri": "https://localhost:8080/"
        },
        "outputId": "e7f221e1-2baa-4238-d4df-526f52d2c862"
      },
      "execution_count": 42,
      "outputs": [
        {
          "output_type": "stream",
          "name": "stdout",
          "text": [
            "['Country', 'annual tax collected', 'happiness_index']\n"
          ]
        }
      ]
    },
    {
      "cell_type": "markdown",
      "source": [
        "Prompt 12: Add a row at the end of the dataframe"
      ],
      "metadata": {
        "id": "Ukh90eMHVvu9"
      }
    },
    {
      "cell_type": "code",
      "source": [
        "response = pandas_ai(df, \"Add the list: ['Noida',None,None] at the end of the dataframe as last row keep inplace=True\")\n",
        "print(response)"
      ],
      "metadata": {
        "id": "lcGL__WyV07C",
        "colab": {
          "base_uri": "https://localhost:8080/"
        },
        "outputId": "366b6a3c-a933-417b-a4d7-517229816ad7"
      },
      "execution_count": 43,
      "outputs": [
        {
          "output_type": "stream",
          "name": "stdout",
          "text": [
            "None\n"
          ]
        }
      ]
    },
    {
      "cell_type": "markdown",
      "source": [
        "Prompt 13: Replace the missing values"
      ],
      "metadata": {
        "id": "whT-6m4mV486"
      }
    },
    {
      "cell_type": "code",
      "source": [
        "response = pandas_ai(df, \"\"\"Fill the NULL values in dataframe with 0 keep inplace=True\n",
        "and the print the last row of dataframe\"\"\")\n",
        "print(response)"
      ],
      "metadata": {
        "id": "ZBfcUamCV5mx",
        "colab": {
          "base_uri": "https://localhost:8080/"
        },
        "outputId": "4d52cc0e-0f6d-4df9-952b-8cb281ea2efc"
      },
      "execution_count": 44,
      "outputs": [
        {
          "output_type": "stream",
          "name": "stdout",
          "text": [
            "   Country  annual tax collected  happiness_index\n",
            "11   Noida                   0.0              0.0\n",
            "   Country  annual tax collected  happiness_index\n",
            "11   Noida                   0.0              0.0\n",
            "None\n"
          ]
        }
      ]
    },
    {
      "cell_type": "markdown",
      "source": [
        "Prompt 14: Calculating mean of a column"
      ],
      "metadata": {
        "id": "C_817qhKV-JZ"
      }
    },
    {
      "cell_type": "code",
      "source": [
        "response = pandas_ai(df, \"What is the mean of annual tax collected\")\n",
        "print(response)"
      ],
      "metadata": {
        "id": "JKLKACS1V_ji",
        "colab": {
          "base_uri": "https://localhost:8080/"
        },
        "outputId": "cb94256e-6952-4a19-b5ff-306fe2db3c1e"
      },
      "execution_count": 45,
      "outputs": [
        {
          "output_type": "stream",
          "name": "stdout",
          "text": [
            "29754788369.666668\n"
          ]
        }
      ]
    },
    {
      "cell_type": "markdown",
      "source": [
        "Prompt 15: Finding frequency of unique values of a column"
      ],
      "metadata": {
        "id": "tnyrcNvYWCR5"
      }
    },
    {
      "cell_type": "markdown",
      "source": [
        "Prompt 16: Dataframe Slicing"
      ],
      "metadata": {
        "id": "wM45fj8VWG05"
      }
    },
    {
      "cell_type": "code",
      "source": [
        "\n",
        "response = pandas_ai(df, \"Show first 3 rows of columns 'Country' and 'happiness index'\")\n",
        "print(response)"
      ],
      "metadata": {
        "id": "R9lyoM-HWHbz",
        "colab": {
          "base_uri": "https://localhost:8080/"
        },
        "outputId": "73c3673c-ebda-4c4f-c718-3fd54179deca"
      },
      "execution_count": 47,
      "outputs": [
        {
          "output_type": "stream",
          "name": "stdout",
          "text": [
            "   Country  happiness_index\n",
            "0    Delhi             9.94\n",
            "1   Mumbai             7.16\n",
            "2  Kolkata             6.35\n"
          ]
        }
      ]
    },
    {
      "cell_type": "markdown",
      "source": [
        "Prompt 17: Using pandas where function"
      ],
      "metadata": {
        "id": "0inuQrlQWKGu"
      }
    },
    {
      "cell_type": "code",
      "source": [
        "response = pandas_ai(df, \"Show the data in the row where 'Country'='Mumbai'\")\n",
        "print(response)"
      ],
      "metadata": {
        "id": "i0AD2RmJWL1B",
        "colab": {
          "base_uri": "https://localhost:8080/"
        },
        "outputId": "de3bc964-7bc2-4dcd-e6d7-f4cc82e3b938"
      },
      "execution_count": 48,
      "outputs": [
        {
          "output_type": "stream",
          "name": "stdout",
          "text": [
            "  Country  annual tax collected  happiness_index\n",
            "1  Mumbai          2.891616e+10             7.16\n"
          ]
        }
      ]
    },
    {
      "cell_type": "markdown",
      "source": [
        "Prompt 18: Using pandas where function with a range of values"
      ],
      "metadata": {
        "id": "OQoK2a_gWN4T"
      }
    },
    {
      "cell_type": "code",
      "source": [
        "\n",
        "response = pandas_ai(df, \"Show the rows where 'happiness index' is between 3 and 6\")\n",
        "print(response)"
      ],
      "metadata": {
        "id": "XMxyNGOQWOeP",
        "colab": {
          "base_uri": "https://localhost:8080/"
        },
        "outputId": "a2bda0c7-1f18-4386-df4f-3a61c87b0df9"
      },
      "execution_count": 49,
      "outputs": [
        {
          "output_type": "stream",
          "name": "stdout",
          "text": [
            "  Country  annual tax collected  happiness_index\n",
            "6    Pune          1.607402e+10             4.23\n",
            "9    Agra          1.463184e+11             3.36\n"
          ]
        }
      ]
    },
    {
      "cell_type": "markdown",
      "source": [
        "Prompt 19: Finding 25th percentile of a column of continuous values"
      ],
      "metadata": {
        "id": "u0ADdJD7WQ5R"
      }
    },
    {
      "cell_type": "code",
      "source": [
        "\n",
        "response = pandas_ai(df, \"What is the 25th percentile value of 'happiness index'\")\n",
        "print(response)"
      ],
      "metadata": {
        "id": "4WrUm17zWSHN",
        "colab": {
          "base_uri": "https://localhost:8080/"
        },
        "outputId": "043f0438-1db2-42d7-9a20-e45429e5fb7b"
      },
      "execution_count": 50,
      "outputs": [
        {
          "output_type": "stream",
          "name": "stdout",
          "text": [
            "4.0125\n"
          ]
        }
      ]
    }
  ]
}