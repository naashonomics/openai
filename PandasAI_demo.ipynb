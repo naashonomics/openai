{
  "nbformat": 4,
  "nbformat_minor": 0,
  "metadata": {
    "colab": {
      "provenance": [],
      "include_colab_link": true
    },
    "kernelspec": {
      "name": "python3",
      "display_name": "Python 3"
    },
    "language_info": {
      "name": "python"
    }
  },
  "cells": [
    {
      "cell_type": "markdown",
      "metadata": {
        "id": "view-in-github",
        "colab_type": "text"
      },
      "source": [
        "<a href=\"https://colab.research.google.com/github/naashonomics/openai/blob/main/PandasAI_demo.ipynb\" target=\"_parent\"><img src=\"https://colab.research.google.com/assets/colab-badge.svg\" alt=\"Open In Colab\"/></a>"
      ]
    },
    {
      "cell_type": "markdown",
      "source": [
        "#PandasAI\n",
        "\n",
        "Pandas AI is a Python library that adds generative artificial intelligence capabilities to Pandas, the popular data analysis and manipulation tool.\n",
        "\n",
        "Here is a very simple demo about how it work!"
      ],
      "metadata": {
        "id": "8OnF6qsbDG1t"
      }
    },
    {
      "cell_type": "markdown",
      "source": [
        "First of all we install the dependencies:"
      ],
      "metadata": {
        "id": "-VQE9nGwDaiG"
      }
    },
    {
      "cell_type": "code",
      "execution_count": null,
      "metadata": {
        "id": "qtqSnCgwDDCg",
        "colab": {
          "base_uri": "https://localhost:8080/",
          "height": 1000
        },
        "outputId": "deceea26-a9e6-45bc-cd9b-b56ddb0dc5bf"
      },
      "outputs": [
        {
          "output_type": "stream",
          "name": "stdout",
          "text": [
            "Looking in indexes: https://pypi.org/simple, https://us-python.pkg.dev/colab-wheels/public/simple/\n",
            "Requirement already satisfied: pandas in /usr/local/lib/python3.10/dist-packages (1.5.3)\n",
            "Collecting pandas\n",
            "  Downloading pandas-2.0.2-cp310-cp310-manylinux_2_17_x86_64.manylinux2014_x86_64.whl (12.3 MB)\n",
            "\u001b[2K     \u001b[90m━━━━━━━━━━━━━━━━━━━━━━━━━━━━━━━━━━━━━━━━\u001b[0m \u001b[32m12.3/12.3 MB\u001b[0m \u001b[31m63.4 MB/s\u001b[0m eta \u001b[36m0:00:00\u001b[0m\n",
            "\u001b[?25hCollecting pandasai\n",
            "  Downloading pandasai-0.4.2-py3-none-any.whl (33 kB)\n",
            "Requirement already satisfied: python-dateutil>=2.8.2 in /usr/local/lib/python3.10/dist-packages (from pandas) (2.8.2)\n",
            "Requirement already satisfied: pytz>=2020.1 in /usr/local/lib/python3.10/dist-packages (from pandas) (2022.7.1)\n",
            "Requirement already satisfied: tzdata>=2022.1 in /usr/local/lib/python3.10/dist-packages (from pandas) (2023.3)\n",
            "Requirement already satisfied: numpy>=1.21.0 in /usr/local/lib/python3.10/dist-packages (from pandas) (1.22.4)\n",
            "Collecting astor<0.9.0,>=0.8.1 (from pandasai)\n",
            "  Downloading astor-0.8.1-py2.py3-none-any.whl (27 kB)\n",
            "Collecting ipython<9.0.0,>=8.13.1 (from pandasai)\n",
            "  Downloading ipython-8.14.0-py3-none-any.whl (798 kB)\n",
            "\u001b[2K     \u001b[90m━━━━━━━━━━━━━━━━━━━━━━━━━━━━━━━━━━━━━━\u001b[0m \u001b[32m798.7/798.7 kB\u001b[0m \u001b[31m43.8 MB/s\u001b[0m eta \u001b[36m0:00:00\u001b[0m\n",
            "\u001b[?25hRequirement already satisfied: matplotlib<4.0.0,>=3.7.1 in /usr/local/lib/python3.10/dist-packages (from pandasai) (3.7.1)\n",
            "Collecting openai<0.28.0,>=0.27.5 (from pandasai)\n",
            "  Downloading openai-0.27.8-py3-none-any.whl (73 kB)\n",
            "\u001b[2K     \u001b[90m━━━━━━━━━━━━━━━━━━━━━━━━━━━━━━━━━━━━━━━━\u001b[0m \u001b[32m73.6/73.6 kB\u001b[0m \u001b[31m7.0 MB/s\u001b[0m eta \u001b[36m0:00:00\u001b[0m\n",
            "\u001b[?25hCollecting python-dotenv<2.0.0,>=1.0.0 (from pandasai)\n",
            "  Downloading python_dotenv-1.0.0-py3-none-any.whl (19 kB)\n",
            "Requirement already satisfied: backcall in /usr/local/lib/python3.10/dist-packages (from ipython<9.0.0,>=8.13.1->pandasai) (0.2.0)\n",
            "Requirement already satisfied: decorator in /usr/local/lib/python3.10/dist-packages (from ipython<9.0.0,>=8.13.1->pandasai) (4.4.2)\n",
            "Collecting jedi>=0.16 (from ipython<9.0.0,>=8.13.1->pandasai)\n",
            "  Downloading jedi-0.18.2-py2.py3-none-any.whl (1.6 MB)\n",
            "\u001b[2K     \u001b[90m━━━━━━━━━━━━━━━━━━━━━━━━━━━━━━━━━━━━━━━━\u001b[0m \u001b[32m1.6/1.6 MB\u001b[0m \u001b[31m60.1 MB/s\u001b[0m eta \u001b[36m0:00:00\u001b[0m\n",
            "\u001b[?25hRequirement already satisfied: matplotlib-inline in /usr/local/lib/python3.10/dist-packages (from ipython<9.0.0,>=8.13.1->pandasai) (0.1.6)\n",
            "Requirement already satisfied: pickleshare in /usr/local/lib/python3.10/dist-packages (from ipython<9.0.0,>=8.13.1->pandasai) (0.7.5)\n",
            "Requirement already satisfied: prompt-toolkit!=3.0.37,<3.1.0,>=3.0.30 in /usr/local/lib/python3.10/dist-packages (from ipython<9.0.0,>=8.13.1->pandasai) (3.0.38)\n",
            "Requirement already satisfied: pygments>=2.4.0 in /usr/local/lib/python3.10/dist-packages (from ipython<9.0.0,>=8.13.1->pandasai) (2.14.0)\n",
            "Collecting stack-data (from ipython<9.0.0,>=8.13.1->pandasai)\n",
            "  Downloading stack_data-0.6.2-py3-none-any.whl (24 kB)\n",
            "Requirement already satisfied: traitlets>=5 in /usr/local/lib/python3.10/dist-packages (from ipython<9.0.0,>=8.13.1->pandasai) (5.7.1)\n",
            "Requirement already satisfied: pexpect>4.3 in /usr/local/lib/python3.10/dist-packages (from ipython<9.0.0,>=8.13.1->pandasai) (4.8.0)\n",
            "Requirement already satisfied: contourpy>=1.0.1 in /usr/local/lib/python3.10/dist-packages (from matplotlib<4.0.0,>=3.7.1->pandasai) (1.0.7)\n",
            "Requirement already satisfied: cycler>=0.10 in /usr/local/lib/python3.10/dist-packages (from matplotlib<4.0.0,>=3.7.1->pandasai) (0.11.0)\n",
            "Requirement already satisfied: fonttools>=4.22.0 in /usr/local/lib/python3.10/dist-packages (from matplotlib<4.0.0,>=3.7.1->pandasai) (4.39.3)\n",
            "Requirement already satisfied: kiwisolver>=1.0.1 in /usr/local/lib/python3.10/dist-packages (from matplotlib<4.0.0,>=3.7.1->pandasai) (1.4.4)\n",
            "Requirement already satisfied: packaging>=20.0 in /usr/local/lib/python3.10/dist-packages (from matplotlib<4.0.0,>=3.7.1->pandasai) (23.1)\n",
            "Requirement already satisfied: pillow>=6.2.0 in /usr/local/lib/python3.10/dist-packages (from matplotlib<4.0.0,>=3.7.1->pandasai) (8.4.0)\n",
            "Requirement already satisfied: pyparsing>=2.3.1 in /usr/local/lib/python3.10/dist-packages (from matplotlib<4.0.0,>=3.7.1->pandasai) (3.0.9)\n",
            "Requirement already satisfied: requests>=2.20 in /usr/local/lib/python3.10/dist-packages (from openai<0.28.0,>=0.27.5->pandasai) (2.27.1)\n",
            "Requirement already satisfied: tqdm in /usr/local/lib/python3.10/dist-packages (from openai<0.28.0,>=0.27.5->pandasai) (4.65.0)\n",
            "Collecting aiohttp (from openai<0.28.0,>=0.27.5->pandasai)\n",
            "  Downloading aiohttp-3.8.4-cp310-cp310-manylinux_2_17_x86_64.manylinux2014_x86_64.whl (1.0 MB)\n",
            "\u001b[2K     \u001b[90m━━━━━━━━━━━━━━━━━━━━━━━━━━━━━━━━━━━━━━━━\u001b[0m \u001b[32m1.0/1.0 MB\u001b[0m \u001b[31m56.5 MB/s\u001b[0m eta \u001b[36m0:00:00\u001b[0m\n",
            "\u001b[?25hRequirement already satisfied: six>=1.5 in /usr/local/lib/python3.10/dist-packages (from python-dateutil>=2.8.2->pandas) (1.16.0)\n",
            "Requirement already satisfied: parso<0.9.0,>=0.8.0 in /usr/local/lib/python3.10/dist-packages (from jedi>=0.16->ipython<9.0.0,>=8.13.1->pandasai) (0.8.3)\n",
            "Requirement already satisfied: ptyprocess>=0.5 in /usr/local/lib/python3.10/dist-packages (from pexpect>4.3->ipython<9.0.0,>=8.13.1->pandasai) (0.7.0)\n",
            "Requirement already satisfied: wcwidth in /usr/local/lib/python3.10/dist-packages (from prompt-toolkit!=3.0.37,<3.1.0,>=3.0.30->ipython<9.0.0,>=8.13.1->pandasai) (0.2.6)\n",
            "Requirement already satisfied: urllib3<1.27,>=1.21.1 in /usr/local/lib/python3.10/dist-packages (from requests>=2.20->openai<0.28.0,>=0.27.5->pandasai) (1.26.15)\n",
            "Requirement already satisfied: certifi>=2017.4.17 in /usr/local/lib/python3.10/dist-packages (from requests>=2.20->openai<0.28.0,>=0.27.5->pandasai) (2022.12.7)\n",
            "Requirement already satisfied: charset-normalizer~=2.0.0 in /usr/local/lib/python3.10/dist-packages (from requests>=2.20->openai<0.28.0,>=0.27.5->pandasai) (2.0.12)\n",
            "Requirement already satisfied: idna<4,>=2.5 in /usr/local/lib/python3.10/dist-packages (from requests>=2.20->openai<0.28.0,>=0.27.5->pandasai) (3.4)\n",
            "Requirement already satisfied: attrs>=17.3.0 in /usr/local/lib/python3.10/dist-packages (from aiohttp->openai<0.28.0,>=0.27.5->pandasai) (23.1.0)\n",
            "Collecting multidict<7.0,>=4.5 (from aiohttp->openai<0.28.0,>=0.27.5->pandasai)\n",
            "  Downloading multidict-6.0.4-cp310-cp310-manylinux_2_17_x86_64.manylinux2014_x86_64.whl (114 kB)\n",
            "\u001b[2K     \u001b[90m━━━━━━━━━━━━━━━━━━━━━━━━━━━━━━━━━━━━━━\u001b[0m \u001b[32m114.5/114.5 kB\u001b[0m \u001b[31m11.1 MB/s\u001b[0m eta \u001b[36m0:00:00\u001b[0m\n",
            "\u001b[?25hCollecting async-timeout<5.0,>=4.0.0a3 (from aiohttp->openai<0.28.0,>=0.27.5->pandasai)\n",
            "  Downloading async_timeout-4.0.2-py3-none-any.whl (5.8 kB)\n",
            "Collecting yarl<2.0,>=1.0 (from aiohttp->openai<0.28.0,>=0.27.5->pandasai)\n",
            "  Downloading yarl-1.9.2-cp310-cp310-manylinux_2_17_x86_64.manylinux2014_x86_64.whl (268 kB)\n",
            "\u001b[2K     \u001b[90m━━━━━━━━━━━━━━━━━━━━━━━━━━━━━━━━━━━━━━━\u001b[0m \u001b[32m268.8/268.8 kB\u001b[0m \u001b[31m8.0 MB/s\u001b[0m eta \u001b[36m0:00:00\u001b[0m\n",
            "\u001b[?25hCollecting frozenlist>=1.1.1 (from aiohttp->openai<0.28.0,>=0.27.5->pandasai)\n",
            "  Downloading frozenlist-1.3.3-cp310-cp310-manylinux_2_5_x86_64.manylinux1_x86_64.manylinux_2_17_x86_64.manylinux2014_x86_64.whl (149 kB)\n",
            "\u001b[2K     \u001b[90m━━━━━━━━━━━━━━━━━━━━━━━━━━━━━━━━━━━━━━━\u001b[0m \u001b[32m149.6/149.6 kB\u001b[0m \u001b[31m6.0 MB/s\u001b[0m eta \u001b[36m0:00:00\u001b[0m\n",
            "\u001b[?25hCollecting aiosignal>=1.1.2 (from aiohttp->openai<0.28.0,>=0.27.5->pandasai)\n",
            "  Downloading aiosignal-1.3.1-py3-none-any.whl (7.6 kB)\n",
            "Collecting executing>=1.2.0 (from stack-data->ipython<9.0.0,>=8.13.1->pandasai)\n",
            "  Downloading executing-1.2.0-py2.py3-none-any.whl (24 kB)\n",
            "Collecting asttokens>=2.1.0 (from stack-data->ipython<9.0.0,>=8.13.1->pandasai)\n",
            "  Downloading asttokens-2.2.1-py2.py3-none-any.whl (26 kB)\n",
            "Collecting pure-eval (from stack-data->ipython<9.0.0,>=8.13.1->pandasai)\n",
            "  Downloading pure_eval-0.2.2-py3-none-any.whl (11 kB)\n",
            "Installing collected packages: pure-eval, executing, python-dotenv, multidict, jedi, frozenlist, async-timeout, asttokens, astor, yarl, stack-data, aiosignal, ipython, aiohttp, openai, pandasai\n",
            "  Attempting uninstall: ipython\n",
            "    Found existing installation: ipython 7.34.0\n",
            "    Uninstalling ipython-7.34.0:\n",
            "      Successfully uninstalled ipython-7.34.0\n",
            "\u001b[31mERROR: pip's dependency resolver does not currently take into account all the packages that are installed. This behaviour is the source of the following dependency conflicts.\n",
            "google-colab 1.0.0 requires ipython==7.34.0, but you have ipython 8.14.0 which is incompatible.\u001b[0m\u001b[31m\n",
            "\u001b[0mSuccessfully installed aiohttp-3.8.4 aiosignal-1.3.1 astor-0.8.1 asttokens-2.2.1 async-timeout-4.0.2 executing-1.2.0 frozenlist-1.3.3 ipython-8.14.0 jedi-0.18.2 multidict-6.0.4 openai-0.27.8 pandasai-0.4.2 pure-eval-0.2.2 python-dotenv-1.0.0 stack-data-0.6.2 yarl-1.9.2\n"
          ]
        },
        {
          "output_type": "display_data",
          "data": {
            "application/vnd.colab-display-data+json": {
              "pip_warning": {
                "packages": [
                  "IPython"
                ]
              }
            }
          },
          "metadata": {}
        }
      ],
      "source": [
        "!pip install --upgrade pandas pandasai"
      ]
    },
    {
      "cell_type": "markdown",
      "source": [
        "Now we import the dependencies:"
      ],
      "metadata": {
        "id": "DrrlU4QqDmxl"
      }
    },
    {
      "cell_type": "code",
      "source": [
        "import pandas as pd\n",
        "import numpy as np\n",
        "from pandasai import PandasAI\n",
        "from pandasai.llm.openai import OpenAI"
      ],
      "metadata": {
        "id": "ohPMkz4zDqxz"
      },
      "execution_count": null,
      "outputs": []
    },
    {
      "cell_type": "markdown",
      "source": [
        "We instanciate the llm (in this case OpenAI). Remember to change the API key with you OpenAI api key."
      ],
      "metadata": {
        "id": "WRKWFWSGD1tB"
      }
    },
    {
      "cell_type": "code",
      "source": [
        "OPENAI_API_KEY = \"YOUR API KEY\"\n",
        "llm = OpenAI(api_token=OPENAI_API_KEY)"
      ],
      "metadata": {
        "id": "MhByl8oxEJFH"
      },
      "execution_count": null,
      "outputs": []
    },
    {
      "cell_type": "markdown",
      "source": [
        "We create a dataframe using pandas:"
      ],
      "metadata": {
        "id": "VtWBXTG0T_3Y"
      }
    },
    {
      "cell_type": "code",
      "source": [
        "data_dict = {\n",
        "    \"country\": [\n",
        "        \"Delhi\",\n",
        "        \"Mumbai\",\n",
        "        \"Kolkata\",\n",
        "        \"Chennai\",\n",
        "        \"Jaipur\",\n",
        "        \"Lucknow\",\n",
        "        \"Pune\",\n",
        "        \"Bengaluru\",\n",
        "        \"Amritsar\",\n",
        "        \"Agra\",\n",
        "        \"Kola\",\n",
        "    ],\n",
        "    \"annual tax collected\": [\n",
        "        19294482072,\n",
        "        28916155672,\n",
        "        24112550372,\n",
        "        34358173362,\n",
        "        17454337886,\n",
        "        11812051350,\n",
        "        16074023894,\n",
        "        14909678554,\n",
        "        43807565410,\n",
        "        146318441864,\n",
        "        np.nan,\n",
        "    ],\n",
        "    \"happiness_index\": [9.94, 7.16, 6.35, 8.07, 6.98, 6.1, 4.23, 8.22, 6.87, 3.36, np.nan],\n",
        "}\n",
        "\n",
        "df = pd.DataFrame(data_dict)\n",
        "df.head()"
      ],
      "metadata": {
        "id": "IcfPQg7AUfC6"
      },
      "execution_count": null,
      "outputs": []
    },
    {
      "cell_type": "markdown",
      "source": [
        "Initialize an instance of pandasai"
      ],
      "metadata": {
        "id": "8p-_Ra2MUp5o"
      }
    },
    {
      "cell_type": "code",
      "source": [
        "llm = OpenAI(api_token=OPENAI_API_KEY)\n",
        "pandas_ai = PandasAI(llm, conversational=False)"
      ],
      "metadata": {
        "id": "-oMqFx0MUmdJ"
      },
      "execution_count": null,
      "outputs": []
    },
    {
      "cell_type": "markdown",
      "source": [
        "Trying pandas features using pandasai\n",
        "Prompt 1: Finding index of a value"
      ],
      "metadata": {
        "id": "2FoJt6VvU2qY"
      }
    },
    {
      "cell_type": "code",
      "source": [
        "# finding index of a row using value of a column\n",
        "response = pandas_ai(df, \"What is the index of Pune?\")\n",
        "print(response)"
      ],
      "metadata": {
        "id": "WOopHXrrU5yJ"
      },
      "execution_count": null,
      "outputs": []
    },
    {
      "cell_type": "markdown",
      "source": [
        "Prompt 2: Using Head() function of DataFrame"
      ],
      "metadata": {
        "id": "kKfMsIkYU9Cw"
      }
    },
    {
      "cell_type": "code",
      "source": [
        "response = pandas_ai(df, \"Show the first 5 rows of data in tabular form\")\n",
        "print(response)"
      ],
      "metadata": {
        "id": "bvLGinkOVBeZ"
      },
      "execution_count": null,
      "outputs": []
    },
    {
      "cell_type": "markdown",
      "source": [
        "Using Tail() function of DataFrame"
      ],
      "metadata": {
        "id": "_l3lyJYmVDso"
      }
    },
    {
      "cell_type": "code",
      "source": [
        "response = pandas_ai(df, \"Show the last 5 rows of data in tabular form\")\n",
        "print(response)"
      ],
      "metadata": {
        "id": "V1_5vDQpVHDp"
      },
      "execution_count": null,
      "outputs": []
    },
    {
      "cell_type": "markdown",
      "source": [
        "Prompt 4: Using describe() function of DataFrame"
      ],
      "metadata": {
        "id": "UQ2CvtUfVKQS"
      }
    },
    {
      "cell_type": "code",
      "source": [
        "response = pandas_ai(df, \"Show the description of data in tabular form\")\n",
        "print(response)"
      ],
      "metadata": {
        "id": "ZrU_AU7dVMsA"
      },
      "execution_count": null,
      "outputs": []
    },
    {
      "cell_type": "markdown",
      "source": [
        "Prompt 5: Using the info() function of DataFrame"
      ],
      "metadata": {
        "id": "XAdP7fzNVP_I"
      }
    },
    {
      "cell_type": "code",
      "source": [
        "response = pandas_ai(df, \"Show the info of data in tabular form\")\n",
        "print(response)"
      ],
      "metadata": {
        "id": "p16sSNYTVQvg"
      },
      "execution_count": null,
      "outputs": []
    },
    {
      "cell_type": "markdown",
      "source": [
        "Prompt 6: Using shape attribute of dataframe"
      ],
      "metadata": {
        "id": "n_e6oV8IVVIg"
      }
    },
    {
      "cell_type": "code",
      "source": [
        "response = pandas_ai(df, \"What is the shape of data?\")\n",
        "print(response)"
      ],
      "metadata": {
        "id": "wgjKmTBNVWsA"
      },
      "execution_count": null,
      "outputs": []
    },
    {
      "cell_type": "markdown",
      "source": [
        "Prompt 7: Finding any duplicate rows"
      ],
      "metadata": {
        "id": "zzat_TbvVZbQ"
      }
    },
    {
      "cell_type": "code",
      "source": [
        "response = pandas_ai(df, \"Are there any duplicate rows?\")\n",
        "print(response)"
      ],
      "metadata": {
        "id": "6EiVn8RLVZ_A"
      },
      "execution_count": null,
      "outputs": []
    },
    {
      "cell_type": "markdown",
      "source": [
        "Prompt 8: Finding missing values"
      ],
      "metadata": {
        "id": "s68XfGrLVczy"
      }
    },
    {
      "cell_type": "code",
      "source": [
        "\n",
        "response = pandas_ai(df, \"Are there any missing values?\")\n",
        "print(response)"
      ],
      "metadata": {
        "id": "NfO50silVeUo"
      },
      "execution_count": null,
      "outputs": []
    },
    {
      "cell_type": "markdown",
      "source": [
        "Prompt 9: Drop rows with missing values"
      ],
      "metadata": {
        "id": "yulzxsxTViHc"
      }
    },
    {
      "cell_type": "code",
      "source": [
        "response = pandas_ai(df, \"Drop the row with missing values with inplace=True and return True when done else False \")\n",
        "print(response)"
      ],
      "metadata": {
        "id": "_mRs__l3Vjlw"
      },
      "execution_count": null,
      "outputs": []
    },
    {
      "cell_type": "markdown",
      "source": [
        "Prompt 10: Print all column names"
      ],
      "metadata": {
        "id": "0_QoYYb8Vllh"
      }
    },
    {
      "cell_type": "code",
      "source": [
        "\n",
        "response = pandas_ai(df, \"List all the column names\")\n",
        "print(response)"
      ],
      "metadata": {
        "id": "L7aLgnQOVmRR"
      },
      "execution_count": null,
      "outputs": []
    },
    {
      "cell_type": "markdown",
      "source": [
        "Prompt 11: Rename a column"
      ],
      "metadata": {
        "id": "D7lvkVJhVoiq"
      }
    },
    {
      "cell_type": "code",
      "source": [
        "response = pandas_ai(df, \"Rename column 'country' as 'Country' keep inplace=True and list all column names\")\n",
        "print(response)"
      ],
      "metadata": {
        "id": "JPCuXp2eVqLi"
      },
      "execution_count": null,
      "outputs": []
    },
    {
      "cell_type": "markdown",
      "source": [
        "Prompt 12: Add a row at the end of the dataframe"
      ],
      "metadata": {
        "id": "Ukh90eMHVvu9"
      }
    },
    {
      "cell_type": "code",
      "source": [
        "response = pandas_ai(df, \"Add the list: ['Noida',None,None] at the end of the dataframe as last row keep inplace=True\")\n",
        "print(response)"
      ],
      "metadata": {
        "id": "lcGL__WyV07C"
      },
      "execution_count": null,
      "outputs": []
    },
    {
      "cell_type": "markdown",
      "source": [
        "Prompt 13: Replace the missing values"
      ],
      "metadata": {
        "id": "whT-6m4mV486"
      }
    },
    {
      "cell_type": "code",
      "source": [
        "response = pandas_ai(df, \"\"\"Fill the NULL values in dataframe with 0 keep inplace=True\n",
        "and the print the last row of dataframe\"\"\")\n",
        "print(response)"
      ],
      "metadata": {
        "id": "ZBfcUamCV5mx"
      },
      "execution_count": null,
      "outputs": []
    },
    {
      "cell_type": "markdown",
      "source": [
        "Prompt 14: Calculating mean of a column"
      ],
      "metadata": {
        "id": "C_817qhKV-JZ"
      }
    },
    {
      "cell_type": "code",
      "source": [
        "response = pandas_ai(df, \"What is the mean of annual tax collected\")\n",
        "print(response)"
      ],
      "metadata": {
        "id": "JKLKACS1V_ji"
      },
      "execution_count": null,
      "outputs": []
    },
    {
      "cell_type": "markdown",
      "source": [
        "Prompt 15: Finding frequency of unique values of a column"
      ],
      "metadata": {
        "id": "tnyrcNvYWCR5"
      }
    },
    {
      "cell_type": "code",
      "source": [
        "response = pandas_ai(df, \"What are the value counts for the column 'Country'\")\n",
        "print(response)"
      ],
      "metadata": {
        "id": "rbqDr9RKWC-4"
      },
      "execution_count": null,
      "outputs": []
    },
    {
      "cell_type": "markdown",
      "source": [
        "Prompt 16: Dataframe Slicing"
      ],
      "metadata": {
        "id": "wM45fj8VWG05"
      }
    },
    {
      "cell_type": "code",
      "source": [
        "\n",
        "response = pandas_ai(df, \"Show first 3 rows of columns 'Country' and 'happiness index'\")\n",
        "print(response)"
      ],
      "metadata": {
        "id": "R9lyoM-HWHbz"
      },
      "execution_count": null,
      "outputs": []
    },
    {
      "cell_type": "markdown",
      "source": [
        "Prompt 17: Using pandas where function"
      ],
      "metadata": {
        "id": "0inuQrlQWKGu"
      }
    },
    {
      "cell_type": "code",
      "source": [
        "response = pandas_ai(df, \"Show the data in the row where 'Country'='Mumbai'\")\n",
        "print(response)"
      ],
      "metadata": {
        "id": "i0AD2RmJWL1B"
      },
      "execution_count": null,
      "outputs": []
    },
    {
      "cell_type": "markdown",
      "source": [
        "Prompt 18: Using pandas where function with a range of values"
      ],
      "metadata": {
        "id": "OQoK2a_gWN4T"
      }
    },
    {
      "cell_type": "code",
      "source": [
        "\n",
        "response = pandas_ai(df, \"Show the rows where 'happiness index' is between 3 and 6\")\n",
        "print(response)"
      ],
      "metadata": {
        "id": "XMxyNGOQWOeP"
      },
      "execution_count": null,
      "outputs": []
    },
    {
      "cell_type": "markdown",
      "source": [
        "Prompt 19: Finding 25th percentile of a column of continuous values"
      ],
      "metadata": {
        "id": "u0ADdJD7WQ5R"
      }
    },
    {
      "cell_type": "code",
      "source": [
        "\n",
        "response = pandas_ai(df, \"What is the 25th percentile value of 'happiness index'\")\n",
        "print(response)"
      ],
      "metadata": {
        "id": "4WrUm17zWSHN"
      },
      "execution_count": null,
      "outputs": []
    }
  ]
}